{
 "cells": [
  {
   "cell_type": "markdown",
   "metadata": {},
   "source": [
    "## Ejercicio - Escribir declaraciones if, else, y elif"
   ]
  },
  {
   "cell_type": "code",
   "execution_count": 14,
   "metadata": {},
   "outputs": [
    {
     "name": "stdout",
     "output_type": "stream",
     "text": [
      "Advertencia un asteroide se acerca a mas de 25km/s\n"
     ]
    }
   ],
   "source": [
    "velocidadAsteroide = 29\n",
    "velocidadPermitida = 25\n",
    "\n",
    "if velocidadAsteroide>velocidadPermitida:\n",
    "    print(\"Advertencia un asteroide se acerca a mas de \" +str(velocidadPermitida)+ \"km/s\")\n",
    "else:\n",
    "    print(\"Hoy no caera ningun meteorito n.n\")"
   ]
  },
  {
   "cell_type": "code",
   "execution_count": 15,
   "metadata": {},
   "outputs": [
    {
     "name": "stdout",
     "output_type": "stream",
     "text": [
      "Hoy no hay luces en el cielo u.u\n"
     ]
    }
   ],
   "source": [
    "velocidadAsteroide = 19\n",
    "\n",
    "if velocidadAsteroide>20:\n",
    "    print(\"Hay una luz en el cielo\")\n",
    "elif velocidadAsteroide==20:\n",
    "    print(\"Hay una luz en el cielo\")\n",
    "else:\n",
    "    print(\"Hoy no hay luces en el cielo u.u\")\n"
   ]
  },
  {
   "cell_type": "markdown",
   "metadata": {},
   "source": [
    "## Ejercicio: Uso de operadores and y or"
   ]
  },
  {
   "cell_type": "code",
   "execution_count": 16,
   "metadata": {},
   "outputs": [
    {
     "name": "stdout",
     "output_type": "stream",
     "text": [
      "Hay una luz en el cielo\n"
     ]
    }
   ],
   "source": [
    "velocidadAsteroide = 25\n",
    "dimensionAsteroide = 40\n",
    "\n",
    "if velocidadAsteroide>25 and dimensionAsteroide>25:\n",
    "    print(\"Advertencia, un asteroide se acerca con una velocidad y tamano peligroso\")\n",
    "elif velocidadAsteroide>=20:\n",
    "    print(\"Hay una luz en el cielo\")\n",
    "elif dimensionAsteroide<25:\n",
    "    print(\"Hoy no caera ningun asteroide n.n\")\n",
    "else:\n",
    "    print(\"Hoy no caera ningun meteorito n.n\")\n"
   ]
  }
 ],
 "metadata": {
  "interpreter": {
   "hash": "7d842e2fa70dde01e7775d8bec8ea986d7cfe29c5bcedd6acbc799e9ce23c72f"
  },
  "kernelspec": {
   "display_name": "Python 3.10.2 64-bit",
   "language": "python",
   "name": "python3"
  },
  "language_info": {
   "codemirror_mode": {
    "name": "ipython",
    "version": 3
   },
   "file_extension": ".py",
   "mimetype": "text/x-python",
   "name": "python",
   "nbconvert_exporter": "python",
   "pygments_lexer": "ipython3",
   "version": "3.10.2"
  },
  "orig_nbformat": 4
 },
 "nbformat": 4,
 "nbformat_minor": 2
}
