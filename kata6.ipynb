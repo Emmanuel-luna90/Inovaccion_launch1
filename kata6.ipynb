{
 "cells": [
  {
   "cell_type": "markdown",
   "metadata": {},
   "source": [
    "## Ejercicio1: Crear y usar listas de Python"
   ]
  },
  {
   "cell_type": "code",
   "execution_count": null,
   "metadata": {},
   "outputs": [],
   "source": [
    "Planets =[\"Mercurio\",\"Venus\", \"Tierra\", \"Marte\", \"Jupiter\", \"Saturno\", \"Urano\",\"Neptuno\"]\n",
    "print(\"Los planetas en el sistema solar son\", len(Planets), \"planetas\" )"
   ]
  },
  {
   "cell_type": "code",
   "execution_count": null,
   "metadata": {},
   "outputs": [],
   "source": [
    "Planets.append(\"Pluton\")\n",
    "print(Planets[-1],\"es el ultimo planeta\")"
   ]
  },
  {
   "cell_type": "markdown",
   "metadata": {},
   "source": [
    "## Ejercicio 2: Trabajando con datos de una lista"
   ]
  },
  {
   "cell_type": "code",
   "execution_count": null,
   "metadata": {},
   "outputs": [],
   "source": [
    "Planets =[\"Mercurio\",\"Venus\", \"Tierra\", \"Marte\", \"Jupiter\", \"Saturno\", \"Urano\",\"Neptuno\"]"
   ]
  },
  {
   "cell_type": "code",
   "execution_count": 29,
   "metadata": {},
   "outputs": [],
   "source": [
    "NomPlaneta = input(\"dime el nombre de un planeta -por favor inicia con una mayuscula-\")"
   ]
  },
  {
   "cell_type": "code",
   "execution_count": 30,
   "metadata": {},
   "outputs": [],
   "source": [
    "lisPlanetas = Planets.index(NomPlaneta)"
   ]
  },
  {
   "cell_type": "code",
   "execution_count": 36,
   "metadata": {},
   "outputs": [
    {
     "name": "stdout",
     "output_type": "stream",
     "text": [
      "Los planetas mas cercanos al sol despues de Venus\n",
      "['Mercurio']\n"
     ]
    }
   ],
   "source": [
    "print(\"Los planetas mas cercanos al sol despues de \"+ NomPlaneta)\n",
    "print(Planets[0:lisPlanetas])"
   ]
  },
  {
   "cell_type": "code",
   "execution_count": 35,
   "metadata": {},
   "outputs": [
    {
     "name": "stdout",
     "output_type": "stream",
     "text": [
      "Los planetas mas alejados del sol despues de Venus\n",
      "['Tierra', 'Marte', 'Jupiter', 'Saturno', 'Urano', 'Neptuno', 'Pluton', 'Pluton']\n"
     ]
    }
   ],
   "source": [
    "print(\"Los planetas mas alejados del sol despues de \"+ NomPlaneta)\n",
    "print(Planets[lisPlanetas + 1:])"
   ]
  }
 ],
 "metadata": {
  "interpreter": {
   "hash": "7d842e2fa70dde01e7775d8bec8ea986d7cfe29c5bcedd6acbc799e9ce23c72f"
  },
  "kernelspec": {
   "display_name": "Python 3.10.2 64-bit",
   "language": "python",
   "name": "python3"
  },
  "language_info": {
   "codemirror_mode": {
    "name": "ipython",
    "version": 3
   },
   "file_extension": ".py",
   "mimetype": "text/x-python",
   "name": "python",
   "nbconvert_exporter": "python",
   "pygments_lexer": "ipython3",
   "version": "3.10.2"
  },
  "orig_nbformat": 4
 },
 "nbformat": 4,
 "nbformat_minor": 2
}
