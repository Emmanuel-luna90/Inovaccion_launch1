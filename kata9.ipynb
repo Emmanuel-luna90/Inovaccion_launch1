{
 "cells": [
  {
   "cell_type": "markdown",
   "metadata": {},
   "source": [
    "## Ejercicio 1: Trabajar con argumentos en funciones"
   ]
  },
  {
   "cell_type": "code",
   "execution_count": 9,
   "metadata": {},
   "outputs": [],
   "source": [
    "# Función para leer 3 tanques de combustible y muestre el promedio\n",
    "def reporte(tanque1, tanque2, tanque3):\n",
    "    PromedioTotal = (tanque1 + tanque2 + tanque3) / 3\n",
    "    return f\"\"\"Estatus de combustible:\n",
    "    Promedio Total: {PromedioTotal}%\n",
    "    Tanque 1: {tanque1}%\n",
    "    Tanque 2: {tanque2}%\n",
    "    Tanque 3: {tanque3}% \n",
    "    \"\"\"\n",
    "    "
   ]
  },
  {
   "cell_type": "code",
   "execution_count": 11,
   "metadata": {},
   "outputs": [
    {
     "name": "stdout",
     "output_type": "stream",
     "text": [
      "Estatus de combustible:\n",
      "    Promedio Total: 46.666666666666664%\n",
      "    Tanque 1: 50%\n",
      "    Tanque 2: 20%\n",
      "    Tanque 3: 70% \n",
      "    \n"
     ]
    }
   ],
   "source": [
    "# Llamamos a la función que genera el reporte print(funcion(tanque1, tanque2, tanque3))\n",
    "print (reporte(50, 20, 70))"
   ]
  },
  {
   "cell_type": "code",
   "execution_count": 14,
   "metadata": {},
   "outputs": [
    {
     "data": {
      "text/plain": [
       "66.66666666666667"
      ]
     },
     "execution_count": 14,
     "metadata": {},
     "output_type": "execute_result"
    }
   ],
   "source": [
    "# Función promedio \n",
    "def promedio(combustible):\n",
    "    total = sum(combustible)\n",
    "    CantidadDeTanques = len(combustible)\n",
    "    return total / CantidadDeTanques\n",
    "promedio([30,80,90])\n"
   ]
  },
  {
   "cell_type": "code",
   "execution_count": 17,
   "metadata": {},
   "outputs": [
    {
     "name": "stdout",
     "output_type": "stream",
     "text": [
      "Estatus de combustible:\n",
      "    Promedio Total: 53.333333333333336%\n",
      "    Tanque 1: 20%\n",
      "    Tanque 2: 50%\n",
      "    Tanque 3: 90% \n",
      "    \n"
     ]
    }
   ],
   "source": [
    "# Actualiza la función\n",
    "def reporte(tanque1, tanque2, tanque3):\n",
    "    return f\"\"\"Estatus de combustible:\n",
    "    Promedio Total: {promedio([tanque1, tanque2, tanque3])}%\n",
    "    Tanque 1: {tanque1}%\n",
    "    Tanque 2: {tanque2}%\n",
    "    Tanque 3: {tanque3}% \n",
    "    \"\"\"\n",
    "print(reporte(20, 50, 90))"
   ]
  },
  {
   "cell_type": "markdown",
   "metadata": {},
   "source": [
    "## Ejercicio 2: Trabajo con argumentos de palabra clave"
   ]
  },
  {
   "cell_type": "code",
   "execution_count": 18,
   "metadata": {},
   "outputs": [
    {
     "name": "stdout",
     "output_type": "stream",
     "text": [
      "\n",
      "    Planeta destio Marte\n",
      "    Tiempo de vuelo: 90 minutos\n",
      "    Combustible total: 26000 Litros\n",
      "    \n"
     ]
    }
   ],
   "source": [
    "# Función con un informe preciso de la misión. Considera hora de prelanzamiento, tiempo de vuelo, destino, tanque externo y tanque interno\n",
    "\n",
    "def informeCohete(tiempoPreLanza, tiempoVuelo, destino, tanque1, tanque2):\n",
    "    return f\"\"\"\n",
    "    Planeta destino {destino}\n",
    "    Tiempo de vuelo: {tiempoPreLanza + tiempoVuelo} minutos\n",
    "    Combustible total: {tanque1 + tanque2} Litros\n",
    "    \"\"\"\n",
    "\n",
    "print(informeCohete(20, 70, \"Marte\", 6000, 20000))"
   ]
  },
  {
   "cell_type": "code",
   "execution_count": 19,
   "metadata": {},
   "outputs": [
    {
     "name": "stdout",
     "output_type": "stream",
     "text": [
      "\n",
      "    Planeta destino Marte\n",
      "    Tiempo de vuelo: 96 minutos\n",
      "    Combustible total: 39000litros\n",
      "    \n"
     ]
    }
   ],
   "source": [
    "# Escribe tu nueva función de reporte considerando lo anterior\n",
    "\n",
    "def informeCohete(destino, *tiempo, **combustible):\n",
    "    return f\"\"\"\n",
    "    Planeta destino {destino}\n",
    "    Tiempo de vuelo: {sum(tiempo)} minutos\n",
    "    Combustible total: {sum(combustible.values())}litros\n",
    "    \"\"\"\n",
    "\n",
    "print(informeCohete(\"Marte\", 6, 20, 70, tanque1=9000, tanque2=30000))"
   ]
  },
  {
   "cell_type": "code",
   "execution_count": 27,
   "metadata": {},
   "outputs": [
    {
     "name": "stdout",
     "output_type": "stream",
     "text": [
      "\n",
      "    Planeta destino Marte\n",
      "    Tiempo de vuelo: 95 minutes\n",
      "    Combustible total: 40000\n",
      "    tanque1 en el tanque quedan 10000 litros de combustible\n",
      "tanque2 en el tanque quedan 30000 litros de combustible\n",
      "\n"
     ]
    }
   ],
   "source": [
    "# Escribe tu nueva función\n",
    "def informeCohete(destino, *tiempo, **combustible):\n",
    "    reporte = f\"\"\"\n",
    "    Planeta destino {destino}\n",
    "    Tiempo de vuelo: {sum(tiempo)} minutes\n",
    "    Combustible total: {sum(combustible.values())}\n",
    "    \"\"\"\n",
    "    for tanque, litros in combustible.items():\n",
    "        reporte += f\"{tanque} en el tanque quedan {litros} litros de combustible\\n\"\n",
    "    return reporte\n",
    "\n",
    "print(informeCohete(\"Marte\", 10, 5, 80, tanque1=10000, tanque2=30000))"
   ]
  }
 ],
 "metadata": {
  "interpreter": {
   "hash": "7d842e2fa70dde01e7775d8bec8ea986d7cfe29c5bcedd6acbc799e9ce23c72f"
  },
  "kernelspec": {
   "display_name": "Python 3.10.2 64-bit",
   "language": "python",
   "name": "python3"
  },
  "language_info": {
   "codemirror_mode": {
    "name": "ipython",
    "version": 3
   },
   "file_extension": ".py",
   "mimetype": "text/x-python",
   "name": "python",
   "nbconvert_exporter": "python",
   "pygments_lexer": "ipython3",
   "version": "3.10.2"
  },
  "orig_nbformat": 4
 },
 "nbformat": 4,
 "nbformat_minor": 2
}
